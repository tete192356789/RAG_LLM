{
 "cells": [
  {
   "cell_type": "code",
   "execution_count": 43,
   "id": "288c2a67-d8e0-485c-91bd-8928e8ad0abd",
   "metadata": {},
   "outputs": [],
   "source": [
    "from langchain.document_loaders.pdf import PyPDFDirectoryLoader\n",
    "from langchain_text_splitters.character import RecursiveCharacterTextSplitter\n",
    "import faiss\n",
    "from langchain_community.vectorstores import FAISS\n",
    "from langchain_community.docstore.in_memory import InMemoryDocstore\n",
    "import os"
   ]
  },
  {
   "cell_type": "code",
   "execution_count": 44,
   "id": "14414ddc-e5b9-48df-a435-9f9f034651a1",
   "metadata": {},
   "outputs": [],
   "source": [
    "def data_loading(DATA_PATH):\n",
    "    loader = PyPDFDirectoryLoader(DATA_PATH)\n",
    "    return loader.load()\n",
    "\n",
    "def documents_splitter(docs:list , chunk_size:int=500 ,chunk_overlap:int=100):\n",
    "    splitter = RecursiveCharacterTextSplitter(\n",
    "    chunk_size=chunk_size,\n",
    "    chunk_overlap=chunk_overlap,\n",
    "    length_function=len,\n",
    "    )\n",
    "    return splitter.split_documents(docs)\n",
    "\n",
    "def generate_chunk_id(docs_chunks):\n",
    "    current_page = 0\n",
    "    doc_idx = 0\n",
    "    \n",
    "    for doc in docs_chunks:\n",
    "        page = doc.metadata['page']\n",
    "        source = doc.metadata['source']\n",
    "        filename = os.path.basename(source)\n",
    "\n",
    "        #page didnt change\n",
    "        if page == current_page:\n",
    "            \n",
    "            #chunks_id.append(f'{page}-{doc_idx}')\n",
    "            doc.metadata['id'] = f'{filename}:{page}-{doc_idx}'\n",
    "            doc_idx += 1   \n",
    "        #page changed    \n",
    "        else:\n",
    "            #source changed\n",
    "            if page == 0 :\n",
    "                current_page = 0\n",
    "                doc_idx = 0\n",
    "                doc.metadata['id'] = f'{filename}:{page}-{doc_idx}'\n",
    "                doc_idx += 1\n",
    "            #source didnt change but page \n",
    "            else:\n",
    "                current_page += 1\n",
    "                doc_idx = 0\n",
    "                #chunks_id.append(f'{page}-{doc_idx}')\n",
    "                doc.metadata['id'] = f'{filename}:{page}-{doc_idx}'\n",
    "                doc_idx += 1\n",
    "    return docs_chunks\n"
   ]
  },
  {
   "cell_type": "code",
   "execution_count": 45,
   "id": "7b796644-df54-40ee-9a37-3931b7b265aa",
   "metadata": {},
   "outputs": [],
   "source": [
    "from langchain.embeddings import OllamaEmbeddings\n",
    "def embedding_model(model = \"all-minilm\"):\n",
    "    embed_model = OllamaEmbeddings(model=model)\n",
    "    return embed_model\n",
    "    \n",
    "    #embeddings.embed_documents(docs)"
   ]
  },
  {
   "cell_type": "code",
   "execution_count": 46,
   "id": "f84f44bd-3ec1-44ee-9e7b-001ad56fc012",
   "metadata": {},
   "outputs": [],
   "source": [
    "DATA_PATH = \"/Users/nachanon/projects/rag_llm/data\"\n",
    "docs = data_loading(DATA_PATH)\n",
    "docs_chunks = documents_splitter(docs)\n",
    "embed_model = embedding_model()\n",
    "docs_chunks_with_id = generate_chunk_id(docs_chunks)"
   ]
  },
  {
   "cell_type": "code",
   "execution_count": 47,
   "id": "f0ed2a63-4853-4d34-8af7-d9af734a6f3b",
   "metadata": {},
   "outputs": [],
   "source": [
    "## INITIALIZE DATABASE \n",
    "\n",
    "\n",
    "FAISS_PATH = '/Users/nachanon/projects/rag_llm/faiss'\n",
    "\n",
    "#this line of code below use to set dimension of embed vector that we want to store into vec db\n",
    "index = faiss.IndexFlatL2(len(embed_model.embed_query(\"hello world\")))\n",
    "\n",
    "vector_store = FAISS(\n",
    "    embedding_function=embedding_model(),\n",
    "    index=index,\n",
    "    docstore= InMemoryDocstore(),\n",
    "    index_to_docstore_id={}\n",
    ")\n",
    "vector_store.add_documents(documents=docs_chunks_with_id, ids= [doc.metadata['id'] for doc in docs_chunks_with_id])\n",
    "\n",
    "vector_store.save_local(FAISS_PATH)"
   ]
  },
  {
   "cell_type": "code",
   "execution_count": 50,
   "id": "27bd02e7-ca01-4e1e-a711-5b50e3126c6e",
   "metadata": {},
   "outputs": [],
   "source": [
    "## LOAD DATABASE\n",
    "FAISS_PATH = '/Users/nachanon/projects/rag_llm/faiss'\n",
    "loaded_vector_db = FAISS.load_local(FAISS_PATH,embedding_model(),allow_dangerous_deserialization=True)\n",
    "\n"
   ]
  },
  {
   "cell_type": "code",
   "execution_count": 51,
   "id": "c71afa5a-e25f-4073-b8f3-28f7acadbeac",
   "metadata": {},
   "outputs": [
    {
     "data": {
      "text/plain": [
       "Document(metadata={'source': '/Users/nachanon/projects/rag_llm/data/monopoly.pdf', 'page': 0, 'id': 'monopoly.pdf:0-0'}, page_content='MONOPOLY \\nProperty Trading Game from Parker Brothers\" \\nAGES 8+ \\n2 to 8 Players \\nContents: Gameboard, 3 dice, tokens, 32 houses, I2 hotels, Chance \\nand Community Chest cards, Title Deed cards, play money and a Banker\\'s tray. \\nNow there\\'s a faster way to play MONOPOLY. Choose to play by \\nthe classic rules for buying, renting and selling properties or use the \\nSpeed Die to get into the action faster. If you\\'ve never played the classic')"
      ]
     },
     "execution_count": 51,
     "metadata": {},
     "output_type": "execute_result"
    }
   ],
   "source": [
    "loaded_vector_db.docstore.search(docs_chunks_with_id[0].metadata['id'])"
   ]
  },
  {
   "cell_type": "code",
   "execution_count": 52,
   "id": "88e6b2f1-d75b-4707-9636-6ac1ed272796",
   "metadata": {},
   "outputs": [
    {
     "name": "stdout",
     "output_type": "stream",
     "text": [
      "not_found_docs = 0\n"
     ]
    }
   ],
   "source": [
    "#this section of code below is to update chunk of text that doest exist in my db\n",
    "\n",
    "not_found_docs = []\n",
    "for doc in docs_chunks_with_id:\n",
    "    if type(loaded_vector_db.docstore.search(doc.metadata['id'])) == str:\n",
    "        not_found_docs.append(doc)\n",
    "\n",
    "\n",
    "######check point for today : update db : next-> more functional coding\n",
    "if len(not_found_docs) != 0 :\n",
    "    loaded_vector_db.add_documents(documents=not_found_docs, ids= [doc.metadata['id'] for doc in not_found_docs])\n",
    "else:\n",
    "    print('not_found_docs = 0')"
   ]
  },
  {
   "cell_type": "code",
   "execution_count": 53,
   "id": "5166d4a2-fa74-4683-ae30-8748546b76e7",
   "metadata": {},
   "outputs": [],
   "source": [
    "#loaded_vector_db.similarity_search_with_relevance_scores('step 3')"
   ]
  },
  {
   "cell_type": "code",
   "execution_count": 67,
   "id": "4792b0c8-4665-4ccf-891d-0765c806c059",
   "metadata": {},
   "outputs": [],
   "source": [
    "from langchain.prompts import ChatPromptTemplate\n",
    "prompt_template = \"\"\"\n",
    "This is query from user: {question}\n",
    "And use this context to answer query : {context}\n",
    "\n",
    "\"\"\"\n",
    "query = \"how much money each player got in starting\"\n",
    "results = loaded_vector_db.similarity_search_with_relevance_scores(query)\n",
    "\n",
    "context_text = \"\\n\\n-------------\\n\\n\".join([doc.page_content for doc, _score in results])\n",
    "prompt_template = ChatPromptTemplate.from_template(prompt_template)\n",
    "prompt = prompt_template.format(context=context_text, question=query)"
   ]
  },
  {
   "cell_type": "code",
   "execution_count": 71,
   "id": "76e5ab06-79c3-4224-abe5-506a3ec7e9cd",
   "metadata": {},
   "outputs": [
    {
     "data": {
      "text/plain": [
       "'According to the text, each player is given $1,500 divided as follows:\\n\\n* P (I assume this means \"plurals\", not a specific amount): 3 x $500 = $1,500\\n* $100: 6\\n* $50: 5\\n* $40: 6\\n* $105: 5\\n* $5: 5\\n* $15: 5\\n\\nThis adds up to a total of $4,115. The remaining money and other equipment go to the Bank.\\n\\nSo, each player starts with $1,500 - $3,995 (total value of all the bills) = $505.'"
      ]
     },
     "execution_count": 71,
     "metadata": {},
     "output_type": "execute_result"
    }
   ],
   "source": [
    "from langchain_ollama.llms import OllamaLLM\n",
    "model = OllamaLLM(model=\"llama3\")\n",
    "model.invoke(prompt)"
   ]
  },
  {
   "cell_type": "code",
   "execution_count": 72,
   "id": "481c08d4-a341-4974-b5c1-8d4645a44358",
   "metadata": {},
   "outputs": [
    {
     "data": {
      "text/plain": [
       "'Human: \\nThis is query from user: how much money each player got in starting\\nAnd use this context to answer query : Each player is given $1,500 divided as follows: P each of $500s, \\n$100~ and $50~; 6 $40~; 5 each of $105, $5~ and $Is. \\nAll remaining money and other equipment go to the Bank. Stack the .. \\nBank\\'s money on edge in the compartments in the plastic Banker\\'s tray. \\nBANKER. Select as Banker a player who will also \\nmake a good Auctioneer A Banker who plays \\n~n the game must keep hislher personal funds \\nseparate from those of the Bank. When more than\\n\\n-------------\\n\\nit sells houses and hotels to the players and loans money when \\nrequired on mortgages. \\nThe Bank collects all taxes, fines, loans and interest, and the price of \\nall properties which it sells and auctions. \\nThe Bank nwer \"goes broke.\" If the Bank runs out of money, the Banker \\nmay issue as much more as needed by writing on any ordinary paper. \\nTHE PLAY: Starting with the Banker, each player in turn throws the dice. \\nThe player with the highest total starts the play: Place your\\n\\n-------------\\n\\n/ \\nfast as playing with i\\'t. \\n1. When starting the game, hand out an extra $1,000 to each player \\n(two $5005 should work). The game moves fast and you\\'ll need \\nthe extra cash to buy and build. \\n2. Do not use the Speed Die until you\\'ve landed on or passed over \\nGO for the first time. Once you collect that first $200 salary, you\\'ll \\nuse the Speed Die for the rest of the game. This means that some \\nplayers will start using the die before others.\\n\\n-------------\\n\\nfederal government. If you win the big jackpot in the World Series of Poker, not only will all your relatives see it on televi-\\nsion, the Internal Revenue Service and others with taxation jurisdiction will know. In some cases, an estimated tax of\\napproximately 25 percent will be held back from your winnings until you file your income taxes. The minimum at which\\nwinnings are reported depends on the size of the prize, the state and federal authorities, and other regulations. Frequently,\\n\\n'"
      ]
     },
     "execution_count": 72,
     "metadata": {},
     "output_type": "execute_result"
    }
   ],
   "source": [
    "p"
   ]
  },
  {
   "cell_type": "code",
   "execution_count": null,
   "id": "f7b6f34b-1612-41d4-afd0-f967f29332c5",
   "metadata": {},
   "outputs": [],
   "source": []
  }
 ],
 "metadata": {
  "kernelspec": {
   "display_name": "Python (venv)",
   "language": "python",
   "name": "nachanon"
  },
  "language_info": {
   "codemirror_mode": {
    "name": "ipython",
    "version": 3
   },
   "file_extension": ".py",
   "mimetype": "text/x-python",
   "name": "python",
   "nbconvert_exporter": "python",
   "pygments_lexer": "ipython3",
   "version": "3.11.9"
  }
 },
 "nbformat": 4,
 "nbformat_minor": 5
}
